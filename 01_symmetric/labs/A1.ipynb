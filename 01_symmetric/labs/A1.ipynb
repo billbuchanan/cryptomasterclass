{
 "cells": [
  {
   "cell_type": "markdown",
   "id": "240a5ef6",
   "metadata": {},
   "source": [
    "# Lab 01 - Symmetric Key Encryption\n",
    "\n",
    "## A1 - Bit operations, hex and Base-64\n",
    "\n",
    "Within encryption, we need to represent byte array values and binary values in printable formats. This incudes a hexademical format and Base-64. In the following code we take different input formats and convert them into differing output formats. Overall, for encyption, we operate on a byte array, and where each value is represented as a byte value (8 bits)."
   ]
  },
  {
   "cell_type": "code",
   "execution_count": 1,
   "id": "bbc95f6b",
   "metadata": {},
   "outputs": [
    {
     "name": "stdout",
     "output_type": "stream",
     "text": [
      "Word:  hello\n",
      "Salt:  ZDzPE45C\n",
      "\n",
      "Hashes\n",
      "SHA-1\t aaf4c61ddcc5e8a2dabede0f3b482cd9aea9434d\n",
      "SHA-256\t 2cf24dba5fb0a30e26e83b2ac5b9e29e1b161e5c1fa7425e73043362938b9824\n",
      "SHA-512\t 9b71d224bd62f3785d96d46ad3ea3d73319bfbc2890caadae2dff72519673ca72323c3d99ba5c11d7c7acc6e14b8c5da0c4663475c2e5c3adef46f73bcdec043\n",
      "MD-5:\t\t\t 5d41402abc4b2a76b9719d911017c592\n",
      "DES:\t\t\t ZDVX7N5Bz.8wk\n",
      "Bcrypt:\t\t\t 67e6b6a1446720cbcaa8cd0b30c6fae01aeb2361fff9bdacf033671fae050c92\n",
      "APR1:\t\t\t $apr1$ZDzPE45C$qn6wBl2beuA9CPlp4KFn9/\n",
      "PBKDF2 (SHA1):\t\t $pbkdf2$5$WkR6UEU0NUM$HEZFFxE.Nw4kv9S9OAklO.I7Zdc\n",
      "PBKDF2 (SHA-256):\t $pbkdf2-sha256$5$WkR6UEU0NUM$46kLMg7OEJgy5l3c5kyzJFySOpRG6ybxo//9pK0o48w\n",
      "LM Hash:\t\t fda95fbeca288d44aad3b435b51404ee\n",
      "NT Hash:\t\t 066ddfd4ef0e9cd7c256fe77191ef43c\n",
      "MS DCC:\t\t\t 624e319218857e1534a2fdebe10a4c8d\n",
      "LDAP (MD5):\t\t {MD5}5d41402abc4b2a76b9719d911017c592\n",
      "LDAP (SHA1):\t\t {SHA}aaf4c61ddcc5e8a2dabede0f3b482cd9aea9434d\n",
      "MS SQL 2000:\t\t 0x0100933226A49EDF0BB8B4C73BDF46CEB808499003FB9C1F1E9A57DBE08B1C22F762CCC3A301D320408E25D7FB88\n",
      "MySQL:\t\t\t *6B4F89A54E2D27ECD7E8DA05B4AB8FD9D1D8B119\n",
      "Oracle 10:\t\t 5A510AC79FA94349\n",
      "Postgres (MD5):\t\t md5199bab2077372d3e45ba080b300607f8\n",
      "Cisco PIX:\t\t fZCymOeqnhGb5O2X\n",
      "Cisco Type 7:\t\t 000C160A0854\n"
     ]
    }
   ],
   "source": [
    "# https://asecuritysite.com/encryption/hash\n",
    "\n",
    "import sys\n",
    "from hashlib import md5\n",
    "import passlib.hash;\n",
    "\n",
    "import bcrypt\n",
    "import hashlib;\n",
    "\n",
    "num = 30\n",
    "repeat_n=1\n",
    "\n",
    "\n",
    "salt=\"ZDzPE45C\"\n",
    "# string=\"the boy stood on the burning deck\"\n",
    "string=\"hello\"\n",
    "salt2=\"1111111111111111111111\"\n",
    "\n",
    "import warnings\n",
    "warnings.filterwarnings(\"ignore\", category=DeprecationWarning) \n",
    "\n",
    "print (\"Word: \",string)\n",
    "print (\"Salt: \",salt)\n",
    "\n",
    "print(\"\\nHashes\")\n",
    "print(\"SHA-1\\t\",hashlib.sha1(string.encode()).hexdigest())\n",
    "print(\"SHA-256\\t\",hashlib.sha256(string.encode()).hexdigest())\n",
    "print(\"SHA-512\\t\",hashlib.sha512(string.encode()).hexdigest())\n",
    "\n",
    "print(\"MD-5:\\t\\t\\t\", md5(string.encode()).hexdigest())\n",
    "print(\"DES:\\t\\t\\t\",  passlib.hash.des_crypt.hash(string.encode(), salt=salt[:2]))\n",
    "\n",
    "print(\"Bcrypt:\\t\\t\\t\", bcrypt.kdf(string.encode(),salt=salt.encode(),desired_key_bytes=32,rounds=100 ).hex())\n",
    "\n",
    "print(\"APR1:\\t\\t\\t\",  passlib.hash.apr_md5_crypt.hash(string.encode(), salt=salt))\n",
    "\n",
    "print(\"PBKDF2 (SHA1):\\t\\t\",  passlib.hash.pbkdf2_sha1.hash(string.encode(),rounds=5, salt=salt.encode()))\n",
    "print(\"PBKDF2 (SHA-256):\\t\", passlib.hash.pbkdf2_sha256.hash(string,rounds=5, salt=salt.encode()))\n",
    "\n",
    "print(\"LM Hash:\\t\\t\",  passlib.hash.lmhash.hash(string.encode()))\n",
    "print(\"NT Hash:\\t\\t\",  passlib.hash.nthash.hash(string.encode()))\n",
    "print(\"MS DCC:\\t\\t\\t\",  passlib.hash.msdcc.hash(string.encode(), salt))\n",
    "\n",
    "print(\"LDAP (MD5):\\t\\t\", passlib.hash.ldap_hex_md5.hash(string.encode()))\n",
    "print(\"LDAP (SHA1):\\t\\t\",  passlib.hash.ldap_hex_sha1.hash(string.encode()))\n",
    "\n",
    "print(\"MS SQL 2000:\\t\\t\",  passlib.hash.mssql2000.hash(string.encode()))\n",
    "print(\"MySQL:\\t\\t\\t\",  passlib.hash.mysql41.hash(string.encode()))\n",
    "print(\"Oracle 10:\\t\\t\",  passlib.hash.oracle10.hash(string.encode(), user=salt))\n",
    "print(\"Postgres (MD5):\\t\\t\", passlib.hash.postgres_md5.hash(string.encode(), user=salt))\n",
    "print(\"Cisco PIX:\\t\\t\",  passlib.hash.cisco_pix.hash(string[:16].encode(), user=salt))\n",
    "print(\"Cisco Type 7:\\t\\t\",  passlib.hash.cisco_type7.hash(string.encode()))"
   ]
  },
  {
   "cell_type": "code",
   "execution_count": null,
   "id": "235e0a2b",
   "metadata": {},
   "outputs": [],
   "source": []
  }
 ],
 "metadata": {
  "kernelspec": {
   "display_name": "Python 3",
   "language": "python",
   "name": "python3"
  },
  "language_info": {
   "codemirror_mode": {
    "name": "ipython",
    "version": 3
   },
   "file_extension": ".py",
   "mimetype": "text/x-python",
   "name": "python",
   "nbconvert_exporter": "python",
   "pygments_lexer": "ipython3",
   "version": "3.7.10"
  }
 },
 "nbformat": 4,
 "nbformat_minor": 5
}
